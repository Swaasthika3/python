{
  "nbformat": 4,
  "nbformat_minor": 0,
  "metadata": {
    "colab": {
      "provenance": [],
      "authorship_tag": "ABX9TyOQqac6xRJoLym5wfz/SSLw",
      "include_colab_link": true
    },
    "kernelspec": {
      "name": "python3",
      "display_name": "Python 3"
    },
    "language_info": {
      "name": "python"
    }
  },
  "cells": [
    {
      "cell_type": "markdown",
      "metadata": {
        "id": "view-in-github",
        "colab_type": "text"
      },
      "source": [
        "<a href=\"https://colab.research.google.com/github/Swaasthika3/python/blob/main/python.ipynb\" target=\"_parent\"><img src=\"https://colab.research.google.com/assets/colab-badge.svg\" alt=\"Open In Colab\"/></a>"
      ]
    },
    {
      "cell_type": "code",
      "execution_count": 11,
      "metadata": {
        "colab": {
          "base_uri": "https://localhost:8080/"
        },
        "id": "1_RvIIQ9uiWy",
        "outputId": "61663767-9bf2-4e56-e39e-f29151958400"
      },
      "outputs": [
        {
          "output_type": "stream",
          "name": "stdout",
          "text": [
            "enter 1st number5\n",
            "enter 2nd number9\n",
            "Enter operation-\n",
            "diff is -4\n"
          ]
        }
      ],
      "source": [
        "def calc():\n",
        "    n1=int(input(\"enter 1st number\"))\n",
        "    n2=int(input(\"enter 2nd number\"))\n",
        "    n=str(input(\"Enter operation\"))\n",
        "    if n==\"+\":\n",
        "      print('sum is',n1+n2)\n",
        "    elif n==\"-\":\n",
        "      print('diff is',n1-n2)\n",
        "    elif n==\"*\":\n",
        "      print('mul is',n1*n2)                                               #calculator\n",
        "    elif n==\"/\":\n",
        "      print('div is',n1/n2)\n",
        "    elif n==\"**\":\n",
        "      print('power is',n1**n2)\n",
        "    else:\n",
        "      print(\"invalid operation\")\n",
        "calc()"
      ]
    },
    {
      "cell_type": "code",
      "source": [
        "a=str(input(\"Enter type\"))\n",
        "if a=='mtokm':\n",
        "  b=int(input(\"Enter value\"))\n",
        "  print(str(b)+\" To km:\",b/1000)\n",
        "elif a=='kmtom':\n",
        "  b=int(input(\"Enter value\"))\n",
        "  print(b+\"To km:\",b*1000)                                    #unit conversion\n",
        "elif(a=='milestokm'):\n",
        "  b=int(input(\"Enter value\"))\n",
        "  print(b,\"To km:\",float(b*1.60934))\n",
        "elif(a=='kmtomiles'):\n",
        "  b=int(input(\"Enter value\"))\n",
        "  print(b,\"To km:\",float(b/1.60934))\n",
        "else:\n",
        "  print(\"invalid type\")\n"
      ],
      "metadata": {
        "colab": {
          "base_uri": "https://localhost:8080/"
        },
        "id": "W2mXSv6GyNqc",
        "outputId": "8bebe557-d913-464b-f432-58589f80e250"
      },
      "execution_count": 27,
      "outputs": [
        {
          "output_type": "stream",
          "name": "stdout",
          "text": [
            "Enter typekmtomiles\n",
            "Enter value5\n",
            "5 To km: 3.106863683249034\n"
          ]
        }
      ]
    },
    {
      "cell_type": "code",
      "source": [
        "def gradecalc():\n",
        "  a = int(input(\"Enter the number of subjects: \"))\n",
        "  total_marks = 0\n",
        "  flag = 0\n",
        "  for i in range(1, a + 1):\n",
        "    marks = int(input(f\"Enter the marks for subject {i}: \"))\n",
        "    total_marks += marks\n",
        "    if marks < 45:\n",
        "      flag = 1\n",
        "  avg = total_marks / a\n",
        "  print(\"*****************\")\n",
        "  if flag == 1:\n",
        "    print(\"Grade F (At least one subject failed)\")\n",
        "  elif avg >= 90:\n",
        "    print(\"Grade A\")\n",
        "  elif avg >= 80:\n",
        "    print(\"Grade B\")\n",
        "  elif avg >= 70:\n",
        "    print(\"Grade C\")\n",
        "  else:\n",
        "    print(\"Grade F\")\n",
        "\n",
        "gradecalc()"
      ],
      "metadata": {
        "colab": {
          "base_uri": "https://localhost:8080/"
        },
        "id": "oiufV0qe8xLo",
        "outputId": "d43ae8c4-b8f4-490d-bb64-029b292e6d4a"
      },
      "execution_count": 51,
      "outputs": [
        {
          "output_type": "stream",
          "name": "stdout",
          "text": [
            "Enter the number of subjects: 2\n",
            "Enter the marks for subject 1: 67\n",
            "Enter the marks for subject 2: 87\n",
            "*****************\n",
            "Grade C\n"
          ]
        }
      ]
    },
    {
      "cell_type": "code",
      "source": [
        " def grade_calculator():\n",
        "    subjects = int(input(\"Enter the number of subjects: \"))\n",
        "    total_marks = 0\n",
        "\n",
        "    for i in range(subjects):\n",
        "        marks = float(input(f\"Enter marks for subject {i + 1}: \"))\n",
        "        total_marks += marks\n",
        "\n",
        "    percentage = (total_marks / (subjects * 100)) * 100\n",
        "\n",
        "    if percentage >= 90:\n",
        "        grade = 'A'\n",
        "    elif percentage >= 80:\n",
        "        grade = 'B'\n",
        "    elif percentage >= 70:\n",
        "        grade = 'C'\n",
        "    elif percentage >= 60:\n",
        "        grade = 'D'\n",
        "    else:\n",
        "        grade = 'F'\n",
        "\n",
        "    print(f\"Total Marks: {total_marks}\")\n",
        "    print(f\"Percentage: {percentage:.2f}%\")\n",
        "    print(f\"Grade: {grade}\")\n",
        "\n",
        "grade_calculator()"
      ],
      "metadata": {
        "id": "XDLqN3lY4rbG"
      },
      "execution_count": null,
      "outputs": []
    },
    {
      "cell_type": "markdown",
      "source": [],
      "metadata": {
        "id": "zStWiKSx-KB_"
      }
    }
  ]
}