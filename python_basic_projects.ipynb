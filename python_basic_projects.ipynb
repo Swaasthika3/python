{
  "nbformat": 4,
  "nbformat_minor": 0,
  "metadata": {
    "colab": {
      "provenance": [],
      "authorship_tag": "ABX9TyOovOccyukgHqPkCxZp1wJd",
      "include_colab_link": true
    },
    "kernelspec": {
      "name": "python3",
      "display_name": "Python 3"
    },
    "language_info": {
      "name": "python"
    }
  },
  "cells": [
    {
      "cell_type": "markdown",
      "metadata": {
        "id": "view-in-github",
        "colab_type": "text"
      },
      "source": [
        "<a href=\"https://colab.research.google.com/github/Swaasthika3/python/blob/main/python_basic_projects.ipynb\" target=\"_parent\"><img src=\"https://colab.research.google.com/assets/colab-badge.svg\" alt=\"Open In Colab\"/></a>"
      ]
    },
    {
      "cell_type": "code",
      "execution_count": 11,
      "metadata": {
        "colab": {
          "base_uri": "https://localhost:8080/"
        },
        "id": "1_RvIIQ9uiWy",
        "outputId": "61663767-9bf2-4e56-e39e-f29151958400"
      },
      "outputs": [
        {
          "output_type": "stream",
          "name": "stdout",
          "text": [
            "enter 1st number5\n",
            "enter 2nd number9\n",
            "Enter operation-\n",
            "diff is -4\n"
          ]
        }
      ],
      "source": [
        "def calc():\n",
        "    n1=int(input(\"enter 1st number\"))\n",
        "    n2=int(input(\"enter 2nd number\"))\n",
        "    n=str(input(\"Enter operation\"))\n",
        "    if n==\"+\":\n",
        "      print('sum is',n1+n2)\n",
        "    elif n==\"-\":\n",
        "      print('diff is',n1-n2)\n",
        "    elif n==\"*\":\n",
        "      print('mul is',n1*n2)                                               #calculator\n",
        "    elif n==\"/\":\n",
        "      print('div is',n1/n2)\n",
        "    elif n==\"**\":\n",
        "      print('power is',n1**n2)\n",
        "    else:\n",
        "      print(\"invalid operation\")\n",
        "calc()"
      ]
    },
    {
      "cell_type": "code",
      "source": [
        "a=str(input(\"Enter type\"))\n",
        "if(a=='mtokm'):\n",
        "  b=int(input(\"Enter value\"))\n",
        "  print(b+\"To km:\",b/1000)\n",
        "elif(a=='kmtom'):\n",
        "  b=int(input(\"Enter value\"))\n",
        "  print(b+\"To km:\",b*1000)                                    #unit conversion\n",
        "elif(a=='milestokm'):\n",
        "  b=int(input(\"Enter value\"))\n",
        "  print(b,\"To km:\",float(b*1.60934))\n",
        "elif(a=='kmtomiles'):\n",
        "  b=int(input(\"Enter value\"))\n",
        "  print(b,\"To km:\",float(b/1.60934))\n",
        "else:\n",
        "  print(\"invalid type\")\n"
      ],
      "metadata": {
        "colab": {
          "base_uri": "https://localhost:8080/"
        },
        "id": "W2mXSv6GyNqc",
        "outputId": "ef0db5ea-fed1-4fab-9bb6-3c0f1146b7e9"
      },
      "execution_count": 20,
      "outputs": [
        {
          "output_type": "stream",
          "name": "stdout",
          "text": [
            "Enter typed\n",
            "invalid type\n"
          ]
        }
      ]
    },
    {
      "cell_type": "code",
      "source": [],
      "metadata": {
        "id": "p-bbMLm20gEt"
      },
      "execution_count": null,
      "outputs": []
    }
  ]
}